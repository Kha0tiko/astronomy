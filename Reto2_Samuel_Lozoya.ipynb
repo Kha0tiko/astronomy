{
 "cells": [
  {
   "cell_type": "markdown",
   "id": "2983a60a",
   "metadata": {},
   "source": [
    "#Diploma en Astronomía - Galaxias y Cosmología 2025-1\n",
    "#Profesor: Jorge Ivan Zuluaga\n",
    "#Alumno: Samuel Alejandro Lozoya Mendez\n",
    "#No. de documento: G25532027"
   ]
  },
  {
   "cell_type": "code",
   "execution_count": null,
   "id": "c6cc5086",
   "metadata": {},
   "outputs": [],
   "source": [
    "import openpyxl, math\n",
    "import numpy as np\n",
    "\n",
    "path='G:/Astronomia/Curso_de_galaxias_y_Cosmología/Retos/Reto2/base-datos-galaxias-filtrada.xlsx'\n",
    "excel_sheet = openpyxl.load_workbook(path)\n",
    "database = excel_sheet.active\n",
    "\n",
    "tabla = []\n",
    "\n",
    "for row in range(1,1000):\n",
    "#for row in range(1,database.max_row):\n",
    "    lista = [row,]\n",
    "    for col in database.iter_cols(1,database.max_column):\n",
    "        lista.append(col[row].value)\n",
    "    tabla.append(lista)"
   ]
  },
  {
   "cell_type": "markdown",
   "id": "ba46e746",
   "metadata": {},
   "source": [
    "#Definiciones"
   ]
  },
  {
   "cell_type": "code",
   "execution_count": null,
   "id": "5f99ce0e",
   "metadata": {},
   "outputs": [],
   "source": [
    "DH = 14000000000 #Constante de Hubble-Lemaitre\n",
    "distancias =[]\n",
    "ángulos_radianes=[]\n"
   ]
  },
  {
   "cell_type": "markdown",
   "id": "fa035643",
   "metadata": {},
   "source": [
    "#Funciones"
   ]
  },
  {
   "cell_type": "code",
   "execution_count": null,
   "id": "645a369a",
   "metadata": {},
   "outputs": [],
   "source": [
    "#*****************Integral*********************\n",
    "from scipy.integrate import quad\n",
    "def integrand(x):\n",
    "\treturn 1/(math.sqrt((0.3*((1+x)**3))+0.7))\n",
    "\n",
    "#Arreglo para cálculo de distancia y ángulo en radianes\n",
    "for row in range(0,999):\n",
    "#for row in range(0,database.max_row-1):\n",
    "    #Cálculo de distancia\n",
    "    z = tabla[row][4]\n",
    "    asc_recta = tabla[row][2]\n",
    "    I, err = quad(integrand, 0, z)\n",
    "    distancia = DH*(1+z)*I\n",
    "    distancias.append(distancia)\n",
    "    #tabla[row].append(distancia)\n",
    "\n",
    "    #Conversión de ángulo a radianes\n",
    "    radianes = (asc_recta*np.pi)/180\n",
    "    ángulos_radianes.append(radianes)"
   ]
  },
  {
   "cell_type": "markdown",
   "id": "ca403c8f",
   "metadata": {},
   "source": [
    "#Gráfica polar"
   ]
  },
  {
   "cell_type": "code",
   "execution_count": null,
   "id": "95704bea",
   "metadata": {},
   "outputs": [],
   "source": [
    "import matplotlib.pyplot as plt\n",
    "fig = plt.figure(figsize=(10,7))\n",
    "ax = fig.add_subplot(111, projection='polar')\n",
    "ax.scatter(ángulos_radianes, distancias,color ='#000000',linewidths=0.1,s=3)\n",
    "ax.set_title('Mapa Universo Local - Samuel Lozoya',fontsize=11)\n",
    "ax.grid(True)\n",
    "plt.show()"
   ]
  }
 ],
 "metadata": {
  "kernelspec": {
   "display_name": "Python 3",
   "language": "python",
   "name": "python3"
  },
  "language_info": {
   "name": "python",
   "version": "3.11.9"
  }
 },
 "nbformat": 4,
 "nbformat_minor": 5
}
